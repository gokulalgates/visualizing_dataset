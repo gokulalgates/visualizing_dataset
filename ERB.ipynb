{
 "cells": [
  {
   "cell_type": "code",
   "execution_count": 5,
   "metadata": {},
   "outputs": [],
   "source": [
    "import pandas as pd\n",
    "from rdkit import Chem, DataStructs\n",
    "from rdkit.Chem import AllChem\n",
    "import tmap as tm\n",
    "from mhfp.encoder import MHFPEncoder\n",
    "from faerun import Faerun"
   ]
  },
  {
   "cell_type": "code",
   "execution_count": 6,
   "metadata": {},
   "outputs": [
    {
     "data": {
      "text/html": [
       "\n",
       "        <iframe\n",
       "            width=\"100%\"\n",
       "            height=\"750\"\n",
       "            src=\"./index.html\"\n",
       "            frameborder=\"0\"\n",
       "            allowfullscreen\n",
       "        ></iframe>\n",
       "        "
      ],
      "text/plain": [
       "<IPython.lib.display.IFrame at 0x7fdacdea0198>"
      ]
     },
     "metadata": {},
     "output_type": "display_data"
    },
    {
     "data": {
      "text/html": [
       "<a href='./index.html' target='_blank'>./index.html</a><br>"
      ],
      "text/plain": [
       "/mnt/d/UCBerkeley/Toxicity_machine_learning/Toxicity_machine_learning/FINAL/CHEM_VIS/index.html"
      ]
     },
     "metadata": {},
     "output_type": "display_data"
    }
   ],
   "source": [
    "\n",
    "\n",
    "\n",
    "filename = 'ERB' + \".xlsx\"\n",
    "\n",
    "\n",
    "\n",
    "ERB = pd.read_excel(filename, sheet_name='X_train', engine='openpyxl')\n",
    "\n",
    "bits = 1024\n",
    "mols = [Chem.MolFromSmiles(s) for s in ERB['SMILES']]\n",
    "ERB['mols'] = mols\n",
    "mol_noH = [Chem.RemoveHs(mol) for mol in ERB['mols']]\n",
    "ERB['mol_noH'] = mol_noH\n",
    "ECFP4_fps = [AllChem.GetMorganFingerprintAsBitVect(x,3,bits) for x in mol_noH]\n",
    "#ECFP4_fps = [MACCSkeys.GenMACCSKeys(x) for x in mol_noH]\n",
    "ecfp4_lists = [tm.VectorUchar(list(fp)) for fp in ECFP4_fps]\n",
    "\n",
    "# The number of permutations used by the MinHashing algorithm\n",
    "perm = 1024\n",
    "\n",
    "# Initializing the MHFP encoder with 512 permutations\n",
    "enc = tm.Minhash(bits)\n",
    "\n",
    "# Initialize the LSH Forest\n",
    "lf_ecfp4 = tm.LSHForest(bits)\n",
    "\n",
    "# Create MHFP fingerprints from SMILES\n",
    "# The fingerprint vectors have to be of the tm.VectorUint data type\n",
    "lf_ecfp4.batch_add(enc.batch_from_binary_array(ecfp4_lists))\n",
    "lf_ecfp4.index()\n",
    "# Get the coordinates\n",
    "x, y, s, t, _ = tm.layout_from_lsh_forest(lf_ecfp4)\n",
    "\n",
    "ERB[\"SmilesID\"] = ERB[\"SMILES\"] + '__' + ERB[\"NURA_ID\"]\n",
    "\n",
    "\n",
    "\n",
    "import matplotlib.pyplot as plt\n",
    "from matplotlib.colors import LinearSegmentedColormap\n",
    "\n",
    "# Prepare custom color map\n",
    "tab10 = plt.get_cmap(\"tab20\").colors\n",
    "colors_gray = [ tab10[0],tab10[4], tab10[12], tab10[2], tab10[3], tab10[6], tab10[1],tab10[6],tab10[7],tab10[8],tab10[9],tab10[10],tab10[11],tab10[12],tab10[13]]\n",
    "#colors_gray = [ tab10[0],(0.95, 0.95, 0.95), tab10[2], tab10[4]]\n",
    "custom_cm_gray = LinearSegmentedColormap.from_list(\"custom_cm_gray\", colors_gray, N=len(colors_gray))\n",
    "\n",
    "from sklearn import preprocessing\n",
    "le = preprocessing.LabelEncoder()\n",
    "le.fit(ERB['label1'])\n",
    "ERB_TRANSFORM = le.transform(ERB['label1'])\n",
    "#print(PR_TRANSFORM)\n",
    "le.fit(ERB['Prediction'])\n",
    "ERB_TRANSFORM_prediction = le.transform(ERB['Prediction'])\n",
    "\n",
    "\n",
    "    \n",
    "faerun = Faerun(clear_color=\"#ffffff\", view=\"front\", coords=False)\n",
    "\n",
    "faerun.add_scatter(\n",
    "    \"Activity\",\n",
    "    {\"x\": x, \"y\": y, \"c\": [ERB_TRANSFORM,ERB_TRANSFORM_prediction], \"labels\": ERB[\"SmilesID\"]},\n",
    "    point_scale=10,\n",
    "    colormap=[custom_cm_gray,custom_cm_gray],\n",
    "    shader=\"smoothCircle\",\n",
    "    has_legend=True,\n",
    "    #categorical=True,\n",
    "    categorical=True,\n",
    "    legend_labels=[[(2, \"Train Active\"), (3, \"Train Inactive\"),(0, \"Test Active\"), (1, \"Test Inactive\")], [(4, \"Train Active\"),(0, \"FN\"),(1, \"FP\"), (2, \"TN\"),(3, \"TP\"), (5,\"Train Inactive\")]],\n",
    "    series_title=[\"ERB\", \"Test\"],\n",
    "    title_index=1,\n",
    ")\n",
    "\n",
    "\n",
    "\n",
    "faerun.add_tree(\"Assay_tree\", {\"from\": s, \"to\": t}, point_helper=\"Activity\",color=\"#666666\")\n",
    "\n",
    "\n",
    "# Choose the \"smiles\" template to display structure on hover\n",
    "faerun.plot(template=\"smiles\", notebook_height=750)\n",
    "\n"
   ]
  },
  {
   "cell_type": "code",
   "execution_count": null,
   "metadata": {},
   "outputs": [],
   "source": []
  }
 ],
 "metadata": {
  "kernelspec": {
   "display_name": "Python 3",
   "language": "python",
   "name": "python3"
  },
  "language_info": {
   "codemirror_mode": {
    "name": "ipython",
    "version": 3
   },
   "file_extension": ".py",
   "mimetype": "text/x-python",
   "name": "python",
   "nbconvert_exporter": "python",
   "pygments_lexer": "ipython3",
   "version": "3.6.12"
  }
 },
 "nbformat": 4,
 "nbformat_minor": 4
}
